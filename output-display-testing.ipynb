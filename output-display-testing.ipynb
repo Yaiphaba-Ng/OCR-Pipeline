{
 "cells": [
  {
   "cell_type": "code",
   "execution_count": 4,
   "metadata": {},
   "outputs": [
    {
     "name": "stdout",
     "output_type": "stream",
     "text": [
      "{\n",
      "    \"output\": \"CHAP\\nN\\n15.O\\nT\\nO A.M\\n\\nY\\nP.P\\nI\\nPIKIAIB11ITHOUNAIOJIA\\nF.F\\nB\\nI\\nT\\nO\\nO\\nP.P\\nN\\nF.F\\nT.S\\nO.T\\nNI\\nT\\nH\\nO\\nS\\nT.S\\nP\\nO\\nS\\nP\\nN\\nP.R\\nP.P\\nMlo 10 KH\\nAIN01RIK1ELISHING\\nO\\nN.S\\nP\\nALISTINGH\\nS\\nI\\nNIOIGNIGMAILA\\nO\\nCI\\nG.F\\nT\\nK.A\\nI\\nP.P\\nP.P\\nN.A\\nT\\nE\\nO\\nN.A\\nB\\nI\\nT\\nE\\nBIEITIOIMBY11@DENELVI\\nT\\nIriel Female Iv\\n2 10 Monilo13\\nO\\nO\\n2 10 1014\\nO\\nO\\nV\\nV\\nMANIPUR\\nCOLLEGE\\nColedge\\n814N151415hel\\n4.M1514151313kol\\n4515\\nT\\nO\\nS.14\\n514914151513\\n5\\n1514141515\\nO\\nL.\\nO\\nYaiphabiwang@gmail.com\\nS\\nINGJIAimei@TIL.O\\nNIGH\\nJAIMLE\\nN M\\nI\\nI\\nT\\nT\\nT\\nT\\nN\\nLielITNI KIT\\nK.A\\nT\\nI\\nAIMPHIEILIT\\nP\\nF\\nPILI WITEI\\nNo S\\nIMIPTHI AIL\\nP.P\\nMIPHIPHALIWEIST\\nH\\nO\\nI.P\\nMIAINA IMPk.R\\n719151018\"\n",
      "}\n"
     ]
    }
   ],
   "source": [
    "import json\n",
    "import html\n",
    "from pathlib import Path\n",
    "\n",
    "\n",
    "json_file_path = Path(\"recog_data.json\")\n",
    "\n",
    "# Load the JSON file\n",
    "with json_file_path.open() as f:\n",
    "    data = json.load(f)\n",
    "\n",
    "# Escape HTML special characters\n",
    "escaped_output = [html.escape(item) for item in data]\n",
    "\n",
    "# Concatenate the strings with newlines\n",
    "output_string = \"\\n\".join(escaped_output)\n",
    "\n",
    "# Create the JSON structure\n",
    "data = {\"output\": output_string}\n",
    "\n",
    "# Convert to JSON string\n",
    "json_data = json.dumps(data, indent=4)\n",
    "\n",
    "# Print the JSON data\n",
    "print(json_data)\n",
    "\n",
    "# Save to a file (optional)\n",
    "with open(\"output.json\", \"w\") as f:\n",
    "    f.write(json_data)\n"
   ]
  }
 ],
 "metadata": {
  "kernelspec": {
   "display_name": "OCR-Pipeline-Poetry",
   "language": "python",
   "name": "python3"
  },
  "language_info": {
   "codemirror_mode": {
    "name": "ipython",
    "version": 3
   },
   "file_extension": ".py",
   "mimetype": "text/x-python",
   "name": "python",
   "nbconvert_exporter": "python",
   "pygments_lexer": "ipython3",
   "version": "3.12.6"
  }
 },
 "nbformat": 4,
 "nbformat_minor": 2
}
